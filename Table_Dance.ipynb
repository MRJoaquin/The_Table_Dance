{
 "cells": [
  {
   "cell_type": "markdown",
   "metadata": {},
   "source": [
    "# Table Dance"
   ]
  },
  {
   "cell_type": "code",
   "execution_count": 370,
   "metadata": {},
   "outputs": [],
   "source": [
    "import sys"
   ]
  },
  {
   "cell_type": "code",
   "execution_count": 371,
   "metadata": {},
   "outputs": [],
   "source": [
    "class SimulationState:\n",
    "    def __init__(self, state):\n",
    "        self.state = state"
   ]
  },
  {
   "cell_type": "code",
   "execution_count": 372,
   "metadata": {},
   "outputs": [],
   "source": [
    "class Table:\n",
    "    def __init__(self, width, height):\n",
    "        self.width = width\n",
    "        self.height = height"
   ]
  },
  {
   "cell_type": "code",
   "execution_count": 373,
   "metadata": {},
   "outputs": [],
   "source": [
    "class Point:\n",
    "    def __init__(self, x_position, y_position, direction):\n",
    "        self.x_position = int(x_position)\n",
    "        self.y_position = int(y_position)\n",
    "        self.direction = direction\n",
    "        \n",
    "    def movePoint(self, command):\n",
    "        \n",
    "        for x in command:\n",
    "        \n",
    "            if (unvalidPosition(self.x_position, self.y_position, table.width, table.height)):\n",
    "                return \"failed\"\n",
    "                \n",
    "            if (x == '0'):\n",
    "                return \"succeeded\"\n",
    "                break\n",
    "\n",
    "            elif (x == '1'):\n",
    "\n",
    "                if(self.direction == 'N'):\n",
    "                    self.y_position -= 1\n",
    "                elif (self.direction == 'S'):\n",
    "                    self.y_position += 1\n",
    "                elif (self.direction == 'E'):\n",
    "                    self.x_position += 1\n",
    "                elif (self.direction == 'W'):\n",
    "                    self.x_position -= 1\n",
    "\n",
    "            elif (x == '2'):\n",
    "\n",
    "                if(self.direction == 'N'):\n",
    "                    self.y_position += 1\n",
    "                elif (self.direction == 'S'):\n",
    "                    self.y_position -= 1\n",
    "                elif (self.direction == 'E'):\n",
    "                    self.x_position -= 1\n",
    "                elif (self.direction == 'W'):\n",
    "                    self.x_position += 1\n",
    "\n",
    "            elif (x == '3'):\n",
    "\n",
    "                if(self.direction == 'N'):\n",
    "                    self.direction = 'E'\n",
    "                elif (self.direction == 'E'):\n",
    "                    self.direction = 'S'\n",
    "                elif (self.direction == 'S'):\n",
    "                    self.direction = 'W'\n",
    "                elif (self.direction == 'W'):\n",
    "                    self.direction = 'N'\n",
    "\n",
    "            elif (x == '4'):\n",
    "\n",
    "                if(self.direction == 'N'):\n",
    "                    self.direction = 'W'\n",
    "                elif (self.direction == 'W'):\n",
    "                    self.direction = 'S'\n",
    "                elif (self.direction == 'S'):\n",
    "                    self.direction = 'E'\n",
    "                elif (self.direction == 'E'):\n",
    "                    self.direction = 'N'            "
   ]
  },
  {
   "cell_type": "code",
   "execution_count": 374,
   "metadata": {},
   "outputs": [],
   "source": [
    "def unvalidPosition(x_pos, y_pos, width, height):\n",
    "    if ((int(x_pos) > int(width)) or (int(y_pos) > int(height)) or (int(x_pos) < 0) or (int(y_pos) < 0)):\n",
    "        simulationState.state = \"failed\"\n",
    "        return True\n",
    "    return False"
   ]
  },
  {
   "cell_type": "code",
   "execution_count": 375,
   "metadata": {},
   "outputs": [],
   "source": [
    "def checkInput(input):\n",
    "    # Simple input check\n",
    "    # If the input value is not an int, it will return as a 0\n",
    "    try:\n",
    "        # Try to convert input into an integer\n",
    "        val = int(input)\n",
    "        # if it's an int, we return the value but first we check so it's not a negative value\n",
    "        if (val < 0):\n",
    "            return 0\n",
    "        return input\n",
    "    except ValueError:\n",
    "        # else we check if its a float \n",
    "        try:\n",
    "            # Try to convert input into a floating point number\n",
    "            val = float(input)\n",
    "            return 0\n",
    "        except ValueError:\n",
    "            # else it's a char or string\n",
    "            return 0"
   ]
  },
  {
   "cell_type": "code",
   "execution_count": 376,
   "metadata": {},
   "outputs": [],
   "source": [
    "def getHeader():\n",
    "    \n",
    "    # Here I'm assuming that the values of the header is separated by commas and ends with a newline character\n",
    "    \n",
    "    headerList = []\n",
    "    \n",
    "    #prompt the user and store input\n",
    "    table_width, table_height, x_pos, y_pos = input(\"Enter comma separated header [width, height, x, y] \").split(\",\")\n",
    "    table_width = checkInput(table_width)\n",
    "    table_height = checkInput(table_height)\n",
    "    x_pos = checkInput(x_pos)\n",
    "    y_pos = checkInput(y_pos)\n",
    "    \n",
    "    headerList = [table_width, table_height, x_pos, y_pos]\n",
    "    \n",
    "    return headerList"
   ]
  },
  {
   "cell_type": "code",
   "execution_count": 377,
   "metadata": {},
   "outputs": [],
   "source": [
    "def getIntStream():\n",
    "    \n",
    "    # Here I'm assuming that the values of the stream is separated by commas and ends with a newline character \n",
    "    \n",
    "    command = input(\"Enter comma separated commands: \").split(\",\")\n",
    "    \n",
    "    return command"
   ]
  },
  {
   "cell_type": "code",
   "execution_count": 384,
   "metadata": {},
   "outputs": [
    {
     "name": "stdout",
     "output_type": "stream",
     "text": [
      "****Welcome to The Table Dance!****\n",
      "\n",
      "Enter comma separated header [width, height, x, y] 2,4,0,0\n",
      "Enter comma separated commands: 3,3,1,1,1,1,4,4,1,1,1,1,3,1,1,0\n",
      "[2, 0]\n"
     ]
    }
   ],
   "source": [
    "print(\"****Welcome to The Table Dance!****\\n\")\n",
    "\n",
    "header = getHeader()\n",
    "\n",
    "table = Table(header[0], header[1])\n",
    "point = Point(header[2], header[3], 'N')\n",
    "simulationState = SimulationState(\"initial state\")\n",
    "\n",
    "command = getIntStream()\n",
    "\n",
    "simulationState.state = point.movePoint(command)\n",
    "\n",
    "if (simulationState.state == \"failed\"):\n",
    "    print(\"[-1,-1]\")\n",
    "elif (simulationState.state == \"succeeded\"):\n",
    "    print('[' + str(point.x_position) + \", \" + str(point.y_position) + ']')\n",
    "else:\n",
    "    print(\"something is wrong... really wrong...\")"
   ]
  },
  {
   "cell_type": "code",
   "execution_count": null,
   "metadata": {},
   "outputs": [],
   "source": []
  }
 ],
 "metadata": {
  "kernelspec": {
   "display_name": "Python 3",
   "language": "python",
   "name": "python3"
  },
  "language_info": {
   "codemirror_mode": {
    "name": "ipython",
    "version": 3
   },
   "file_extension": ".py",
   "mimetype": "text/x-python",
   "name": "python",
   "nbconvert_exporter": "python",
   "pygments_lexer": "ipython3",
   "version": "3.8.3"
  }
 },
 "nbformat": 4,
 "nbformat_minor": 4
}
